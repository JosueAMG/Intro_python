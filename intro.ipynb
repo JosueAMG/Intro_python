{
 "cells": [
  {
   "cell_type": "markdown",
   "metadata": {},
   "source": [
    "## variables\n",
    "las variables se definen:\n",
    "*nombre 'msh'\n",
    "*tipo   string\n",
    "*valor"
   ]
  },
  {
   "cell_type": "code",
   "execution_count": 1,
   "metadata": {},
   "outputs": [
    {
     "name": "stdout",
     "output_type": "stream",
     "text": [
      "usamos prit para mostrar\n"
     ]
    }
   ],
   "source": [
    "print(\"usamos prit para mostrar\")"
   ]
  },
  {
   "cell_type": "code",
   "execution_count": 2,
   "metadata": {},
   "outputs": [
    {
     "name": "stdout",
     "output_type": "stream",
     "text": [
      "algun mensaje\n"
     ]
    }
   ],
   "source": [
    "#hola con una variable \n",
    "msg = 'algun mensaje'\n",
    "print(msg)"
   ]
  },
  {
   "cell_type": "markdown",
   "metadata": {},
   "source": [
    "##  Programando hotcakes"
   ]
  },
  {
   "cell_type": "code",
   "execution_count": 11,
   "metadata": {},
   "outputs": [],
   "source": [
    "titulo = 'programando los hotcakes'\n",
    " \n",
    "\n",
    " #PRIMERO asignamos espacios en la memoria\n",
    "huevo = 3             \n",
    "leche = 1.5\n",
    "mantequilla = 0.045\n",
    "harina = 3\n",
    "cucharaVainilla = 0.015"
   ]
  },
  {
   "cell_type": "code",
   "execution_count": 12,
   "metadata": {},
   "outputs": [
    {
     "name": "stdout",
     "output_type": "stream",
     "text": [
      "1.5\n",
      "cantidad de leche: 1.5\n"
     ]
    }
   ],
   "source": [
    "print(leche)\n",
    "\n",
    "print('cantidad de leche: ' + str(leche))                  #  + str   para cadenas de texto"
   ]
  },
  {
   "cell_type": "code",
   "execution_count": 13,
   "metadata": {},
   "outputs": [
    {
     "name": "stdout",
     "output_type": "stream",
     "text": [
      "cantidad de leche: 1.5cantidad de huevo: 3\n"
     ]
    }
   ],
   "source": [
    "print('cantidad de leche: ' + str(leche)  +  'cantidad de huevo: ' + str(huevo) )           #usamos  +  despues de 'para otra cadena    "
   ]
  },
  {
   "cell_type": "code",
   "execution_count": 14,
   "metadata": {},
   "outputs": [
    {
     "name": "stdout",
     "output_type": "stream",
     "text": [
      "cantidad de leche: 1.5\n",
      "cantidad de huevo: 3\n"
     ]
    }
   ],
   "source": [
    "print('cantidad de leche: ' + str(leche)  +  '\\ncantidad de huevo: ' + str(huevo) )        #  agregamos   \\n    para una nueva linea"
   ]
  },
  {
   "cell_type": "code",
   "execution_count": 15,
   "metadata": {},
   "outputs": [
    {
     "name": "stdout",
     "output_type": "stream",
     "text": [
      "7.56\n"
     ]
    }
   ],
   "source": [
    "#mezclamos ingredientes \n",
    "\n",
    "mezcla = huevo + leche + harina + mantequilla + cucharaVainilla      #definimos la variable mezcla\n",
    "print(mezcla)"
   ]
  },
  {
   "cell_type": "code",
   "execution_count": 19,
   "metadata": {},
   "outputs": [
    {
     "name": "stdout",
     "output_type": "stream",
     "text": [
      "la cantidad de huevo correcta\n"
     ]
    }
   ],
   "source": [
    "#reglas - condiciones \n",
    "if (huevo == 3 ):                        #  ==  se usa el exactamente igual con dobles \n",
    "    print('la cantidad de huevo correcta')\n",
    "elif (leche == 1.5):\n",
    "    print('la cantidad de leche es correcta')                 #se usa el  elif      para agregar otras\n",
    "\n",
    "elif (mantequilla == 0.045):\n",
    "    print('la cantidad de mantequilla es correcta')\n",
    "\n",
    "else:                                                              #usamos   else:\n",
    "    print('revisa tu reseta')"
   ]
  },
  {
   "cell_type": "code",
   "execution_count": 23,
   "metadata": {},
   "outputs": [
    {
     "name": "stdout",
     "output_type": "stream",
     "text": [
      "la mescla alcanza para: 2.52 hotcakes por persona\n"
     ]
    }
   ],
   "source": [
    "#repartirlo\n",
    "\n",
    "porcion = mezcla / 3 \n",
    "print('la mescla alcanza para: ' + str (porcion) + ' hotcakes por persona' )"
   ]
  },
  {
   "cell_type": "markdown",
   "metadata": {},
   "source": [
    "## cadenas\n",
    "son una serie e caracteres entre comillas dobles \"\" o simples '' "
   ]
  },
  {
   "cell_type": "code",
   "execution_count": 29,
   "metadata": {},
   "outputs": [
    {
     "name": "stdout",
     "output_type": "stream",
     "text": [
      "Josue Montero\n"
     ]
    }
   ],
   "source": [
    "#strig   cadenas\n",
    "name = 'JoSuE montEro'\n",
    "print(name.title())    # variabel .title()   Para Las Primeras letra M "
   ]
  },
  {
   "cell_type": "code",
   "execution_count": 30,
   "metadata": {},
   "outputs": [
    {
     "name": "stdout",
     "output_type": "stream",
     "text": [
      "JOSUE MONTERO\n"
     ]
    }
   ],
   "source": [
    "print(name.upper())         # se usa upper para combertir a MAYUSCULAS"
   ]
  },
  {
   "cell_type": "code",
   "execution_count": 32,
   "metadata": {},
   "outputs": [
    {
     "name": "stdout",
     "output_type": "stream",
     "text": [
      "josue montero\n"
     ]
    }
   ],
   "source": [
    "print(name.lower())        #lower para pasarlo a minusculas "
   ]
  },
  {
   "cell_type": "code",
   "execution_count": 34,
   "metadata": {},
   "outputs": [
    {
     "name": "stdout",
     "output_type": "stream",
     "text": [
      "False\n",
      "JoSuE montEro\n"
     ]
    }
   ],
   "source": [
    "print(name.islower())     #para verificar ¿esta en minusculas?   da true o false\n",
    "print(name)"
   ]
  },
  {
   "cell_type": "code",
   "execution_count": 36,
   "metadata": {},
   "outputs": [
    {
     "name": "stdout",
     "output_type": "stream",
     "text": [
      "True\n",
      "josue montero\n"
     ]
    }
   ],
   "source": [
    "name = name.lower()               #ahora cambiamos name a minusculas definitivamente porque en las funciones prin es solo temporal \n",
    "print(name.islower())    \n",
    "print(name)"
   ]
  },
  {
   "cell_type": "code",
   "execution_count": 42,
   "metadata": {},
   "outputs": [
    {
     "name": "stdout",
     "output_type": "stream",
     "text": [
      "  josue       montero  \n"
     ]
    }
   ],
   "source": [
    "primer_nombre = '  josue   '\n",
    "apellido = '           montero  '\n",
    "print (primer_nombre +  \"  \"  +  apellido )"
   ]
  },
  {
   "cell_type": "code",
   "execution_count": 49,
   "metadata": {},
   "outputs": [
    {
     "name": "stdout",
     "output_type": "stream",
     "text": [
      "montero\n"
     ]
    }
   ],
   "source": [
    "#para quitar los espacios \n",
    "apellido=apellido.strip()               #usamos   .strip()\n",
    "print(apellido)"
   ]
  },
  {
   "cell_type": "code",
   "execution_count": 61,
   "metadata": {},
   "outputs": [
    {
     "name": "stdout",
     "output_type": "stream",
     "text": [
      "      montero  \n",
      "      montero\n"
     ]
    }
   ],
   "source": [
    "apellido = '      montero  '\n",
    "#     apellido = apellido.istrip()            #   algo fallo\n",
    "print(apellido)                  #quita espacios del prinsipio   .Istrip\n",
    "\n",
    "apellido = apellido.rstrip()      #quitar espacios al final\n",
    "print(apellido)  \n"
   ]
  },
  {
   "cell_type": "code",
   "execution_count": 63,
   "metadata": {},
   "outputs": [
    {
     "name": "stdout",
     "output_type": "stream",
     "text": [
      "josue montero\n"
     ]
    }
   ],
   "source": [
    "#usando variables en cadena\n",
    "nombre= 'josue'\n",
    "apellido = 'montero'\n",
    "nombre_completo = f'{nombre} {apellido}'        #para juntar las cadenas  f''   para estableser un formato\n",
    "print(nombre_completo)"
   ]
  },
  {
   "cell_type": "markdown",
   "metadata": {},
   "source": [
    "## listas \n",
    "alamacenan una serie de cadenas \n"
   ]
  },
  {
   "cell_type": "code",
   "execution_count": 64,
   "metadata": {},
   "outputs": [],
   "source": [
    "ingrediente = ['huevo','harina', 'leche' ]      #asi se declaran unas listas "
   ]
  },
  {
   "cell_type": "code",
   "execution_count": 65,
   "metadata": {},
   "outputs": [
    {
     "data": {
      "text/plain": [
       "'huevo'"
      ]
     },
     "execution_count": 65,
     "metadata": {},
     "output_type": "execute_result"
    }
   ],
   "source": [
    "#acceder al primer ingrediente\n",
    "ingrediente[0]       #en las listas el primer ingrediente es   0 luego 1 2 3 ets y  el ultimo -1"
   ]
  },
  {
   "cell_type": "code",
   "execution_count": 76,
   "metadata": {},
   "outputs": [
    {
     "data": {
      "text/plain": [
       "'mantequilla'"
      ]
     },
     "execution_count": 76,
     "metadata": {},
     "output_type": "execute_result"
    }
   ],
   "source": [
    "#ultimo elemento\n",
    "ingrediente[-1]"
   ]
  },
  {
   "cell_type": "code",
   "execution_count": 96,
   "metadata": {},
   "outputs": [
    {
     "name": "stdout",
     "output_type": "stream",
     "text": [
      "['huevo', 'harina', 'cuchara_Vainilla', 'cuchara_Vainilla', 'cuchara_Vainilla', 'cuchara_Vainilla', 'leche', 'mantequilla']\n",
      "['huevo', 'harina', 'cuchara_Vainilla', 'cuchara_Vainilla', 'cuchara_Vainilla', 'cuchara_Vainilla', 'leche', 'mantequilla', 'mantequilla']\n"
     ]
    }
   ],
   "source": [
    "print(ingrediente)\n",
    "\n",
    "ingrediente.append('mantequilla')            #append() para insertar elementos en la lista (al FINAL)\n",
    "print(ingrediente)"
   ]
  },
  {
   "cell_type": "code",
   "execution_count": 90,
   "metadata": {},
   "outputs": [
    {
     "name": "stdout",
     "output_type": "stream",
     "text": [
      "['huevo', 'harina', 'cuchara_Vainilla', 'cuchara_Vainilla', 'cuchara_Vainilla', 'cuchara_Vainilla', 'leche']\n"
     ]
    }
   ],
   "source": [
    "ingrediente.insert(2,'cuchara_Vainilla')       #inser para agregar elemento en lugar que quieras (en la casilla 2 que es la tercera vainilla)\n",
    "print(ingrediente)"
   ]
  },
  {
   "cell_type": "code",
   "execution_count": 95,
   "metadata": {},
   "outputs": [
    {
     "name": "stdout",
     "output_type": "stream",
     "text": [
      "['huevo', 'harina', 'cuchara_Vainilla', 'cuchara_Vainilla', 'cuchara_Vainilla', 'cuchara_Vainilla', 'leche', 'mantequilla']\n"
     ]
    }
   ],
   "source": [
    "ingrediente.pop(8)   #pop para eliminar la casilla 8\n",
    "print(ingrediente)"
   ]
  },
  {
   "cell_type": "code",
   "execution_count": 112,
   "metadata": {},
   "outputs": [
    {
     "ename": "ValueError",
     "evalue": "list.remove(x): x not in list",
     "output_type": "error",
     "traceback": [
      "\u001b[1;31m---------------------------------------------------------------------------\u001b[0m",
      "\u001b[1;31mValueError\u001b[0m                                Traceback (most recent call last)",
      "\u001b[1;32mc:\\Users\\JAMG_MEX\\Desktop\\launchX\\intro.ipynb Cell 29'\u001b[0m in \u001b[0;36m<module>\u001b[1;34m\u001b[0m\n\u001b[1;32m----> <a href='vscode-notebook-cell:/c%3A/Users/JAMG_MEX/Desktop/launchX/intro.ipynb#ch0000038?line=0'>1</a>\u001b[0m ingrediente\u001b[39m.\u001b[39;49mremove(\u001b[39m'\u001b[39;49m\u001b[39mmantequilla\u001b[39;49m\u001b[39m'\u001b[39;49m)     \u001b[39m#para sacar el nombre o valor de la casilla\u001b[39;00m\n\u001b[0;32m      <a href='vscode-notebook-cell:/c%3A/Users/JAMG_MEX/Desktop/launchX/intro.ipynb#ch0000038?line=1'>2</a>\u001b[0m \u001b[39mprint\u001b[39m(ingrediente)\n",
      "\u001b[1;31mValueError\u001b[0m: list.remove(x): x not in list"
     ]
    }
   ],
   "source": [
    "ingrediente.remove('mantequilla')     #para sacar el nombre o valor de la casilla\n",
    "print(ingrediente)"
   ]
  },
  {
   "cell_type": "code",
   "execution_count": 107,
   "metadata": {},
   "outputs": [
    {
     "name": "stdout",
     "output_type": "stream",
     "text": [
      "['huevo', 'harina', 'leche']\n"
     ]
    }
   ],
   "source": [
    "ingrediente = ['huevo','harina', 'leche' ]    #para recuperar \n",
    "print(ingrediente)"
   ]
  },
  {
   "cell_type": "code",
   "execution_count": 111,
   "metadata": {},
   "outputs": [
    {
     "name": "stdout",
     "output_type": "stream",
     "text": [
      "['harina', 'huevo', 'leche']\n"
     ]
    }
   ],
   "source": [
    "#ordenar manera alfabetica     sort a-z\n",
    "ingrediente.sort()\n",
    "print(ingrediente)"
   ]
  },
  {
   "cell_type": "code",
   "execution_count": 113,
   "metadata": {},
   "outputs": [
    {
     "name": "stdout",
     "output_type": "stream",
     "text": [
      "['leche', 'huevo', 'harina']\n"
     ]
    }
   ],
   "source": [
    "#rever  Z-A\n",
    "ingrediente.reverse()\n",
    "print(ingrediente)"
   ]
  },
  {
   "cell_type": "code",
   "execution_count": 114,
   "metadata": {},
   "outputs": [
    {
     "data": {
      "text/plain": [
       "3"
      ]
     },
     "execution_count": 114,
     "metadata": {},
     "output_type": "execute_result"
    }
   ],
   "source": [
    "#longitud de la lista\n",
    "len(ingrediente)               #elementos que tiene la lista"
   ]
  },
  {
   "cell_type": "code",
   "execution_count": 115,
   "metadata": {},
   "outputs": [
    {
     "name": "stdout",
     "output_type": "stream",
     "text": [
      "['leche', 'huevo']\n"
     ]
    }
   ],
   "source": [
    "#slicing   [:#]   para los primeros dos de la lista o x numero\n",
    "\n",
    "primeros_dos = ingrediente[:2]\n",
    "print(primeros_dos)"
   ]
  },
  {
   "cell_type": "code",
   "execution_count": 116,
   "metadata": {},
   "outputs": [
    {
     "name": "stdout",
     "output_type": "stream",
     "text": [
      "['leche', 'huevo', 'harina']\n"
     ]
    }
   ],
   "source": [
    "#  [:]  para copiar la lista \n",
    "copia_de_lista = ingrediente[:]\n",
    "print(copia_de_lista)"
   ]
  },
  {
   "cell_type": "markdown",
   "metadata": {},
   "source": [
    "## tuplas\n",
    "son similares a las listas pero los elementos de estas no se pueden modificar\n"
   ]
  },
  {
   "cell_type": "code",
   "execution_count": 118,
   "metadata": {},
   "outputs": [
    {
     "name": "stdout",
     "output_type": "stream",
     "text": [
      "1080\n",
      "720\n"
     ]
    }
   ],
   "source": [
    "dimensiones = (1080,720,500)              #ya establecidas no se pueden cambiar con un   =    como  dimensiones[1]= 200  no funciona \n",
    "print(dimensiones[0])\n",
    "print(dimensiones[1])"
   ]
  },
  {
   "cell_type": "code",
   "execution_count": 119,
   "metadata": {},
   "outputs": [
    {
     "name": "stdout",
     "output_type": "stream",
     "text": [
      "dimensiones orginales\n",
      "1080\n",
      "720\n",
      "500\n"
     ]
    }
   ],
   "source": [
    "print('dimensiones orginales')\n",
    "for dim in dimensiones:              #muestra toda la lista n escalera\n",
    "    print(dim)"
   ]
  },
  {
   "cell_type": "code",
   "execution_count": 136,
   "metadata": {},
   "outputs": [
    {
     "name": "stdout",
     "output_type": "stream",
     "text": [
      "[100, 200]\n"
     ]
    }
   ],
   "source": [
    "#para modificar \n",
    "dimenciones=[100,200]\n",
    "print(dimenciones)"
   ]
  },
  {
   "cell_type": "code",
   "execution_count": 138,
   "metadata": {},
   "outputs": [
    {
     "name": "stdout",
     "output_type": "stream",
     "text": [
      "100\n",
      "200\n"
     ]
    }
   ],
   "source": [
    "for d in dimenciones:               #muestra toda la lista n escalera\n",
    "    print(d)"
   ]
  },
  {
   "cell_type": "code",
   "execution_count": null,
   "metadata": {},
   "outputs": [],
   "source": [
    "#for  y el rango, condicional  para cana numero en la casilla     [for, rango condicion]"
   ]
  }
 ],
 "metadata": {
  "interpreter": {
   "hash": "24e4e9fa0193be2fec45300aa20c71bd4bd7559f026db18502c22c080af5e925"
  },
  "kernelspec": {
   "display_name": "Python 3.10.2 64-bit",
   "language": "python",
   "name": "python3"
  },
  "language_info": {
   "codemirror_mode": {
    "name": "ipython",
    "version": 3
   },
   "file_extension": ".py",
   "mimetype": "text/x-python",
   "name": "python",
   "nbconvert_exporter": "python",
   "pygments_lexer": "ipython3",
   "version": "3.10.2"
  },
  "orig_nbformat": 4
 },
 "nbformat": 4,
 "nbformat_minor": 2
}
